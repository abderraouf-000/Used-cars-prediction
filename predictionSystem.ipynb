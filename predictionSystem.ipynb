{
 "cells": [
  {
   "cell_type": "markdown",
   "metadata": {},
   "source": [
    "#### Importing necessary packages ####"
   ]
  },
  {
   "cell_type": "code",
   "execution_count": 1,
   "metadata": {},
   "outputs": [],
   "source": [
    "import numpy as np;\n",
    "import matplotlib.pyplot as pyplot;\n",
    "import pandas as pd;\n",
    "import sklearn;\n",
    "import regex as re;\n",
    "from sklearn.model_selection import train_test_split\n"
   ]
  },
  {
   "cell_type": "code",
   "execution_count": 2,
   "metadata": {},
   "outputs": [
    {
     "name": "stdout",
     "output_type": "stream",
     "text": [
      "brand             0\n",
      "model             0\n",
      "model_year        0\n",
      "milage            0\n",
      "fuel_type       170\n",
      "engine            0\n",
      "transmission      0\n",
      "ext_col           0\n",
      "int_col           0\n",
      "accident        113\n",
      "clean_title     596\n",
      "price             0\n",
      "dtype: int64\n"
     ]
    },
    {
     "data": {
      "text/plain": [
       "0"
      ]
     },
     "execution_count": 2,
     "metadata": {},
     "output_type": "execute_result"
    }
   ],
   "source": [
    "# Verifying mission values\n",
    "df = pd.read_csv(\"used_cars.csv\");\n",
    "print(df.isnull().sum())\n",
    "\n",
    "df.duplicated().sum()\n",
    "#there is no duplicates in this data frame"
   ]
  },
  {
   "cell_type": "markdown",
   "metadata": {},
   "source": [
    "To solve this problem of null values, we have three different approaches\n",
    "<ul>\n",
    "<li>Dropping all of these rows</li>\n",
    "<li>Replacing it with mode or median or mean</li>\n",
    "<li>Create another category for the NaN</li>\n",
    "<li>Using KNNs</li>\n",
    "</ul>"
   ]
  },
  {
   "cell_type": "code",
   "execution_count": 3,
   "metadata": {},
   "outputs": [],
   "source": [
    "# replacing Null values with mode\n",
    "df['fuel_type'] = df['fuel_type'].replace(np.nan,df['fuel_type'].mode()[0])\n",
    "\n",
    "df['accident'] = df['accident'].replace(np.nan,df['accident'].mode()[0])\n",
    "\n",
    "df = df.dropna(subset = ['clean_title'])\n"
   ]
  },
  {
   "cell_type": "code",
   "execution_count": 4,
   "metadata": {},
   "outputs": [
    {
     "data": {
      "text/plain": [
       "brand           0\n",
       "model           0\n",
       "model_year      0\n",
       "milage          0\n",
       "fuel_type       0\n",
       "engine          0\n",
       "transmission    0\n",
       "ext_col         0\n",
       "int_col         0\n",
       "accident        0\n",
       "clean_title     0\n",
       "price           0\n",
       "dtype: int64"
      ]
     },
     "execution_count": 4,
     "metadata": {},
     "output_type": "execute_result"
    }
   ],
   "source": [
    "df.isnull().sum()"
   ]
  },
  {
   "cell_type": "code",
   "execution_count": 5,
   "metadata": {},
   "outputs": [
    {
     "data": {
      "text/html": [
       "<div>\n",
       "<style scoped>\n",
       "    .dataframe tbody tr th:only-of-type {\n",
       "        vertical-align: middle;\n",
       "    }\n",
       "\n",
       "    .dataframe tbody tr th {\n",
       "        vertical-align: top;\n",
       "    }\n",
       "\n",
       "    .dataframe thead th {\n",
       "        text-align: right;\n",
       "    }\n",
       "</style>\n",
       "<table border=\"1\" class=\"dataframe\">\n",
       "  <thead>\n",
       "    <tr style=\"text-align: right;\">\n",
       "      <th></th>\n",
       "      <th>brand</th>\n",
       "      <th>model_year</th>\n",
       "      <th>milage</th>\n",
       "      <th>fuel_type</th>\n",
       "      <th>transmission</th>\n",
       "      <th>ext_col</th>\n",
       "      <th>int_col</th>\n",
       "      <th>accident</th>\n",
       "      <th>clean_title</th>\n",
       "      <th>price</th>\n",
       "    </tr>\n",
       "  </thead>\n",
       "  <tbody>\n",
       "    <tr>\n",
       "      <th>0</th>\n",
       "      <td>Ford</td>\n",
       "      <td>2013</td>\n",
       "      <td>51000</td>\n",
       "      <td>E85 Flex Fuel</td>\n",
       "      <td>6-Speed A/T</td>\n",
       "      <td>Black</td>\n",
       "      <td>Black</td>\n",
       "      <td>At least 1 accident or damage reported</td>\n",
       "      <td>Yes</td>\n",
       "      <td>10300</td>\n",
       "    </tr>\n",
       "    <tr>\n",
       "      <th>1</th>\n",
       "      <td>Hyundai</td>\n",
       "      <td>2021</td>\n",
       "      <td>34742</td>\n",
       "      <td>Gasoline</td>\n",
       "      <td>8-Speed Automatic</td>\n",
       "      <td>Moonlight Cloud</td>\n",
       "      <td>Gray</td>\n",
       "      <td>At least 1 accident or damage reported</td>\n",
       "      <td>Yes</td>\n",
       "      <td>38005</td>\n",
       "    </tr>\n",
       "    <tr>\n",
       "      <th>3</th>\n",
       "      <td>INFINITI</td>\n",
       "      <td>2015</td>\n",
       "      <td>88900</td>\n",
       "      <td>Hybrid</td>\n",
       "      <td>7-Speed A/T</td>\n",
       "      <td>Black</td>\n",
       "      <td>Black</td>\n",
       "      <td>None reported</td>\n",
       "      <td>Yes</td>\n",
       "      <td>15500</td>\n",
       "    </tr>\n",
       "    <tr>\n",
       "      <th>6</th>\n",
       "      <td>Audi</td>\n",
       "      <td>2017</td>\n",
       "      <td>84000</td>\n",
       "      <td>Gasoline</td>\n",
       "      <td>6-Speed A/T</td>\n",
       "      <td>Blue</td>\n",
       "      <td>Black</td>\n",
       "      <td>None reported</td>\n",
       "      <td>Yes</td>\n",
       "      <td>31000</td>\n",
       "    </tr>\n",
       "    <tr>\n",
       "      <th>7</th>\n",
       "      <td>BMW</td>\n",
       "      <td>2001</td>\n",
       "      <td>242000</td>\n",
       "      <td>Gasoline</td>\n",
       "      <td>A/T</td>\n",
       "      <td>Green</td>\n",
       "      <td>Green</td>\n",
       "      <td>None reported</td>\n",
       "      <td>Yes</td>\n",
       "      <td>7300</td>\n",
       "    </tr>\n",
       "    <tr>\n",
       "      <th>...</th>\n",
       "      <td>...</td>\n",
       "      <td>...</td>\n",
       "      <td>...</td>\n",
       "      <td>...</td>\n",
       "      <td>...</td>\n",
       "      <td>...</td>\n",
       "      <td>...</td>\n",
       "      <td>...</td>\n",
       "      <td>...</td>\n",
       "      <td>...</td>\n",
       "    </tr>\n",
       "    <tr>\n",
       "      <th>4003</th>\n",
       "      <td>Mercedes-Benz</td>\n",
       "      <td>2018</td>\n",
       "      <td>53705</td>\n",
       "      <td>Gasoline</td>\n",
       "      <td>A/T</td>\n",
       "      <td>Black</td>\n",
       "      <td>Black</td>\n",
       "      <td>At least 1 accident or damage reported</td>\n",
       "      <td>Yes</td>\n",
       "      <td>25900</td>\n",
       "    </tr>\n",
       "    <tr>\n",
       "      <th>4004</th>\n",
       "      <td>Bentley</td>\n",
       "      <td>2023</td>\n",
       "      <td>714</td>\n",
       "      <td>Gasoline</td>\n",
       "      <td>8-Speed Automatic with Auto-Shift</td>\n",
       "      <td>C / C</td>\n",
       "      <td>Hotspur</td>\n",
       "      <td>None reported</td>\n",
       "      <td>Yes</td>\n",
       "      <td>349950</td>\n",
       "    </tr>\n",
       "    <tr>\n",
       "      <th>4005</th>\n",
       "      <td>Audi</td>\n",
       "      <td>2022</td>\n",
       "      <td>10900</td>\n",
       "      <td>Gasoline</td>\n",
       "      <td>Transmission w/Dual Shift Mode</td>\n",
       "      <td>Black</td>\n",
       "      <td>Black</td>\n",
       "      <td>None reported</td>\n",
       "      <td>Yes</td>\n",
       "      <td>53900</td>\n",
       "    </tr>\n",
       "    <tr>\n",
       "      <th>4007</th>\n",
       "      <td>Ford</td>\n",
       "      <td>2020</td>\n",
       "      <td>33000</td>\n",
       "      <td>Gasoline</td>\n",
       "      <td>A/T</td>\n",
       "      <td>Blue</td>\n",
       "      <td>Black</td>\n",
       "      <td>None reported</td>\n",
       "      <td>Yes</td>\n",
       "      <td>62999</td>\n",
       "    </tr>\n",
       "    <tr>\n",
       "      <th>4008</th>\n",
       "      <td>BMW</td>\n",
       "      <td>2020</td>\n",
       "      <td>43000</td>\n",
       "      <td>Gasoline</td>\n",
       "      <td>A/T</td>\n",
       "      <td>Gray</td>\n",
       "      <td>Brown</td>\n",
       "      <td>At least 1 accident or damage reported</td>\n",
       "      <td>Yes</td>\n",
       "      <td>40000</td>\n",
       "    </tr>\n",
       "  </tbody>\n",
       "</table>\n",
       "<p>3413 rows × 10 columns</p>\n",
       "</div>"
      ],
      "text/plain": [
       "              brand  model_year  milage      fuel_type  \\\n",
       "0              Ford        2013   51000  E85 Flex Fuel   \n",
       "1           Hyundai        2021   34742       Gasoline   \n",
       "3          INFINITI        2015   88900         Hybrid   \n",
       "6              Audi        2017   84000       Gasoline   \n",
       "7               BMW        2001  242000       Gasoline   \n",
       "...             ...         ...     ...            ...   \n",
       "4003  Mercedes-Benz        2018   53705       Gasoline   \n",
       "4004        Bentley        2023     714       Gasoline   \n",
       "4005           Audi        2022   10900       Gasoline   \n",
       "4007           Ford        2020   33000       Gasoline   \n",
       "4008            BMW        2020   43000       Gasoline   \n",
       "\n",
       "                           transmission          ext_col  int_col  \\\n",
       "0                           6-Speed A/T            Black    Black   \n",
       "1                     8-Speed Automatic  Moonlight Cloud     Gray   \n",
       "3                           7-Speed A/T            Black    Black   \n",
       "6                           6-Speed A/T             Blue    Black   \n",
       "7                                   A/T            Green    Green   \n",
       "...                                 ...              ...      ...   \n",
       "4003                                A/T            Black    Black   \n",
       "4004  8-Speed Automatic with Auto-Shift            C / C  Hotspur   \n",
       "4005     Transmission w/Dual Shift Mode            Black    Black   \n",
       "4007                                A/T             Blue    Black   \n",
       "4008                                A/T             Gray    Brown   \n",
       "\n",
       "                                    accident clean_title   price  \n",
       "0     At least 1 accident or damage reported         Yes   10300  \n",
       "1     At least 1 accident or damage reported         Yes   38005  \n",
       "3                              None reported         Yes   15500  \n",
       "6                              None reported         Yes   31000  \n",
       "7                              None reported         Yes    7300  \n",
       "...                                      ...         ...     ...  \n",
       "4003  At least 1 accident or damage reported         Yes   25900  \n",
       "4004                           None reported         Yes  349950  \n",
       "4005                           None reported         Yes   53900  \n",
       "4007                           None reported         Yes   62999  \n",
       "4008  At least 1 accident or damage reported         Yes   40000  \n",
       "\n",
       "[3413 rows x 10 columns]"
      ]
     },
     "execution_count": 5,
     "metadata": {},
     "output_type": "execute_result"
    }
   ],
   "source": [
    "df = df.drop(columns = ['engine','model'])\n",
    "# turning milage,price values into numbers\n",
    "for i,row in df.iterrows():\n",
    "    number = int(\"\".join(re.findall(\"\\d+\",row['milage'])))\n",
    "    df.loc[i,'milage'] = number;\n",
    "    number = int(\"\".join(re.findall(\"\\d+\",row['price'])))\n",
    "    df.loc[i,'price'] = number;\n",
    "    \n",
    "df"
   ]
  },
  {
   "cell_type": "code",
   "execution_count": 6,
   "metadata": {},
   "outputs": [
    {
     "data": {
      "text/plain": [
       "array([22119.3671875, 42161.433930381885, 49021.324137931035,\n",
       "       46134.166666666664, 44762.72727272727, 34853.75, 14000.0],\n",
       "      dtype=object)"
      ]
     },
     "execution_count": 6,
     "metadata": {},
     "output_type": "execute_result"
    }
   ],
   "source": [
    "# turning categorical columns into classes\n",
    "\n",
    "def turn_into_class(df,col_name):\n",
    "\n",
    "    mean_encoded = df.groupby(col_name)['price'].mean()\n",
    "\n",
    "    df[col_name] = df[col_name].map(mean_encoded)\n",
    "    \n",
    "\n",
    "turn_into_class(df,col_name='brand');\n",
    "turn_into_class(df,col_name='fuel_type');\n",
    "turn_into_class(df,col_name='transmission');\n",
    "turn_into_class(df,col_name='ext_col');\n",
    "turn_into_class(df,col_name='int_col');\n",
    "turn_into_class(df,col_name='clean_title');\n",
    "turn_into_class(df,col_name='accident');\n",
    "df['fuel_type'].unique()\n",
    "\n",
    "# extcolor_class_index = turn_into_class(df['ext_col'],col_name='ext_col');\n",
    "# intcolor_class_index = turn_into_class(df['int_col'],col_name='int_col')\n",
    "# cleantitle_class_index = turn_into_class(df['clean_title'],col_name='clean_title')\n",
    "# accident_class_index = turn_into_class(df['accident'],col_name='accident')\n",
    "# fuel_class_index = turn_into_class(df['fuel_type'],col_name='fuel_type')\n",
    "# transmission_class_index = turn_into_class(df['transmission'],col_name='transmission')\n",
    "\n",
    "\n",
    "\n",
    "\n"
   ]
  },
  {
   "cell_type": "code",
   "execution_count": 7,
   "metadata": {},
   "outputs": [],
   "source": [
    "df = df.astype(int);\n",
    "train_x,test_x,train_y,test_y = train_test_split(df[['brand','model_year','milage','fuel_type','transmission','ext_col','int_col','accident','clean_title']], df['price'], test_size=0.2, random_state=40);\n"
   ]
  },
  {
   "cell_type": "code",
   "execution_count": 8,
   "metadata": {},
   "outputs": [],
   "source": [
    "from sklearn.linear_model import LinearRegression\n",
    "from sklearn.metrics import mean_squared_error, r2_score"
   ]
  },
  {
   "cell_type": "code",
   "execution_count": 9,
   "metadata": {},
   "outputs": [
    {
     "name": "stdout",
     "output_type": "stream",
     "text": [
      "[66893.62428231 51438.81170514 33828.17067987 ... 45727.53862111\n",
      "  6608.11962189 36075.55262584]\n",
      "4647956176.585222\n",
      "0.3950448935456772\n"
     ]
    }
   ],
   "source": [
    "model = LinearRegression()\n",
    "\n",
    "# Fit the model to the training data\n",
    "model.fit(train_x,train_y)\n",
    "\n",
    "# Make predictions on the test data\n",
    "y_pred = model.predict(train_x)\n",
    "\n",
    "\n",
    "print(y_pred)\n",
    "# Evaluate the model\n",
    "mse = mean_squared_error(train_y, y_pred)\n",
    "r2_square = r2_score(train_y,y_pred)\n",
    "\n",
    "print(mse)\n",
    "print(r2_square)"
   ]
  },
  {
   "cell_type": "code",
   "execution_count": 10,
   "metadata": {},
   "outputs": [
    {
     "name": "stdout",
     "output_type": "stream",
     "text": [
      "                            OLS Regression Results                            \n",
      "==============================================================================\n",
      "Dep. Variable:                  price   R-squared:                       0.395\n",
      "Model:                            OLS   Adj. R-squared:                  0.393\n",
      "Method:                 Least Squares   F-statistic:                     222.1\n",
      "Date:                Mon, 19 Aug 2024   Prob (F-statistic):          2.82e-290\n",
      "Time:                        16:29:21   Log-Likelihood:                -34258.\n",
      "No. Observations:                2730   AIC:                         6.853e+04\n",
      "Df Residuals:                    2721   BIC:                         6.859e+04\n",
      "Df Model:                           8                                         \n",
      "Covariance Type:            nonrobust                                         \n",
      "================================================================================\n",
      "                   coef    std err          t      P>|t|      [0.025      0.975]\n",
      "--------------------------------------------------------------------------------\n",
      "brand            0.8403      0.028     29.540      0.000       0.784       0.896\n",
      "model_year     391.7492    264.256      1.482      0.138    -126.414     909.913\n",
      "milage          -0.2298      0.033     -7.058      0.000      -0.294      -0.166\n",
      "fuel_type        0.2866      0.301      0.953      0.340      -0.303       0.876\n",
      "transmission     0.2319      0.052      4.420      0.000       0.129       0.335\n",
      "ext_col          0.1757      0.068      2.572      0.010       0.042       0.310\n",
      "int_col          0.3450      0.056      6.127      0.000       0.235       0.455\n",
      "accident        -0.0051      0.167     -0.030      0.976      -0.332       0.322\n",
      "clean_title    -19.3972     12.778     -1.518      0.129     -44.453       5.659\n",
      "==============================================================================\n",
      "Omnibus:                     7174.136   Durbin-Watson:                   2.061\n",
      "Prob(Omnibus):                  0.000   Jarque-Bera (JB):        153811315.760\n",
      "Skew:                          30.059   Prob(JB):                         0.00\n",
      "Kurtosis:                    1164.281   Cond. No.                     2.75e+04\n",
      "==============================================================================\n",
      "\n",
      "Notes:\n",
      "[1] Standard Errors assume that the covariance matrix of the errors is correctly specified.\n",
      "[2] The condition number is large, 2.75e+04. This might indicate that there are\n",
      "strong multicollinearity or other numerical problems.\n"
     ]
    },
    {
     "data": {
      "text/plain": [
       "0.5830983527082443"
      ]
     },
     "execution_count": 10,
     "metadata": {},
     "output_type": "execute_result"
    }
   ],
   "source": [
    "import statsmodels.api as sm\n",
    "X = sm.add_constant(train_x)  # Adds a constant term to the predictor\n",
    "model = sm.OLS(train_y, X).fit()\n",
    "print(model.summary())\n",
    "\n",
    "X = sm.add_constant(test_x) \n",
    "y_pred_statsmodels = model.predict(X)\n",
    "r2_score(test_y, y_pred_statsmodels)\n"
   ]
  },
  {
   "cell_type": "markdown",
   "metadata": {},
   "source": [
    "As you can see that p-values of (fuel_type,model_year,clean_title,ext_col) are >= 0.001, so we can remove them (there is no evidence that these predictors are related to response).\n"
   ]
  },
  {
   "cell_type": "code",
   "execution_count": null,
   "metadata": {},
   "outputs": [],
   "source": []
  },
  {
   "cell_type": "markdown",
   "metadata": {},
   "source": []
  }
 ],
 "metadata": {
  "kernelspec": {
   "display_name": "Python 3",
   "language": "python",
   "name": "python3"
  },
  "language_info": {
   "codemirror_mode": {
    "name": "ipython",
    "version": 3
   },
   "file_extension": ".py",
   "mimetype": "text/x-python",
   "name": "python",
   "nbconvert_exporter": "python",
   "pygments_lexer": "ipython3",
   "version": "3.10.12"
  }
 },
 "nbformat": 4,
 "nbformat_minor": 2
}
